{
  "nbformat": 4,
  "nbformat_minor": 0,
  "metadata": {
    "colab": {
      "provenance": [],
      "gpuType": "T4",
      "mount_file_id": "1AxJ1485jrUFNP7IUzo8CuKX9xTMcs-5e",
      "authorship_tag": "ABX9TyNWCuTQNzMCC6UbxF3DFI+s",
      "include_colab_link": true
    },
    "kernelspec": {
      "name": "python3",
      "display_name": "Python 3"
    },
    "language_info": {
      "name": "python"
    },
    "accelerator": "GPU"
  },
  "cells": [
    {
      "cell_type": "markdown",
      "metadata": {
        "id": "view-in-github",
        "colab_type": "text"
      },
      "source": [
        "<a href=\"https://colab.research.google.com/github/i-johnvictor/ml_with_tensorflow/blob/main/01_tf_first_model.ipynb\" target=\"_parent\"><img src=\"https://colab.research.google.com/assets/colab-badge.svg\" alt=\"Open In Colab\"/></a>"
      ]
    },
    {
      "cell_type": "code",
      "execution_count": null,
      "metadata": {
        "id": "6i2_2dSZeEZc"
      },
      "outputs": [],
      "source": [
        "#Lets download the dependant libararies\n",
        "import tensorflow as tf\n",
        "import numpy as np\n",
        "from tensorflow import keras"
      ]
    },
    {
      "cell_type": "code",
      "source": [
        "# simplest nueral network with just one layer, input shape also as 1\n",
        "model = tf.keras.Sequential([keras.layers.Dense(units=1, input_shape=[1])])"
      ],
      "metadata": {
        "id": "ehwBpECOeaM3"
      },
      "execution_count": null,
      "outputs": []
    },
    {
      "cell_type": "code",
      "source": [
        "# to compile a model, we need two arguments. One is optimizer function and the loss function\n",
        "model.compile(optimizer='sgd', loss='mean_squared_error')"
      ],
      "metadata": {
        "id": "22eYexwLelmq"
      },
      "execution_count": null,
      "outputs": []
    },
    {
      "cell_type": "code",
      "source": [
        "# Lets try to understand how this model recognizes the next possible value\n",
        "# we are dealing with a mathematical function y=mx+b, let's assume the m value as 3\n",
        "xs = np.array([-1.0, 0.0, 1.0, 2.0, 3.0, 4.0], dtype=float)\n",
        "ys = np.array([-2.0, 1.0, 4.0, 7.0, 10.0, 13.0], dtype=float)"
      ],
      "metadata": {
        "id": "TzH3Ku77e2cw"
      },
      "execution_count": null,
      "outputs": []
    },
    {
      "cell_type": "code",
      "source": [
        "# Lets train the model with this input data and the outcome\n",
        "model.fit(xs, ys, epochs=500)"
      ],
      "metadata": {
        "id": "Kc_4ACflfF_C"
      },
      "execution_count": null,
      "outputs": []
    },
    {
      "cell_type": "code",
      "source": [
        "# Lets try to predict the Y value for an unknown\n",
        "Xp = np.array([10.0], dtype=float)\n",
        "print(model.predict(Xp))"
      ],
      "metadata": {
        "id": "rQHeiI0ufRrO"
      },
      "execution_count": null,
      "outputs": []
    }
  ]
}